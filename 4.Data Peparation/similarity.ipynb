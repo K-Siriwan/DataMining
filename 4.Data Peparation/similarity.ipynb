{
 "cells": [
  {
   "cell_type": "code",
   "execution_count": 8,
   "id": "16777b0a",
   "metadata": {},
   "outputs": [
    {
     "name": "stdout",
     "output_type": "stream",
     "text": [
      "Collecting scipy\n",
      "  Downloading scipy-1.16.2-cp313-cp313-win_amd64.whl.metadata (60 kB)\n",
      "Requirement already satisfied: numpy<2.6,>=1.25.2 in d:\\datamining\\datamining\\environments\\lib\\site-packages (from scipy) (2.3.1)\n",
      "Downloading scipy-1.16.2-cp313-cp313-win_amd64.whl (38.5 MB)\n",
      "   ---------------------------------------- 0.0/38.5 MB ? eta -:--:--\n",
      "   -- ------------------------------------- 2.4/38.5 MB 11.9 MB/s eta 0:00:04\n",
      "   ---- ----------------------------------- 4.7/38.5 MB 11.9 MB/s eta 0:00:03\n",
      "   ------- -------------------------------- 7.1/38.5 MB 11.9 MB/s eta 0:00:03\n",
      "   ---------- ----------------------------- 9.7/38.5 MB 11.9 MB/s eta 0:00:03\n",
      "   ------------ --------------------------- 12.1/38.5 MB 11.9 MB/s eta 0:00:03\n",
      "   --------------- ------------------------ 14.7/38.5 MB 11.9 MB/s eta 0:00:03\n",
      "   ----------------- ---------------------- 17.0/38.5 MB 11.9 MB/s eta 0:00:02\n",
      "   -------------------- ------------------- 19.4/38.5 MB 11.9 MB/s eta 0:00:02\n",
      "   ---------------------- ----------------- 22.0/38.5 MB 11.8 MB/s eta 0:00:02\n",
      "   ------------------------- -------------- 24.4/38.5 MB 11.8 MB/s eta 0:00:02\n",
      "   --------------------------- ------------ 26.7/38.5 MB 11.9 MB/s eta 0:00:01\n",
      "   ------------------------------ --------- 29.1/38.5 MB 11.9 MB/s eta 0:00:01\n",
      "   -------------------------------- ------- 31.7/38.5 MB 11.9 MB/s eta 0:00:01\n",
      "   ----------------------------------- ---- 34.1/38.5 MB 11.9 MB/s eta 0:00:01\n",
      "   ------------------------------------- -- 36.4/38.5 MB 11.9 MB/s eta 0:00:01\n",
      "   ---------------------------------------  38.3/38.5 MB 11.9 MB/s eta 0:00:01\n",
      "   ---------------------------------------- 38.5/38.5 MB 11.4 MB/s  0:00:03\n",
      "Installing collected packages: scipy\n",
      "Successfully installed scipy-1.16.2\n",
      "Note: you may need to restart the kernel to use updated packages.\n"
     ]
    }
   ],
   "source": [
    "pip install scipy"
   ]
  },
  {
   "cell_type": "code",
   "execution_count": null,
   "id": "cce85b48",
   "metadata": {},
   "outputs": [],
   "source": [
    "import pandas as pd\n",
    "import numpy as np\n",
    "from scipy.spatial import distance_matrix\n"
   ]
  },
  {
   "cell_type": "code",
   "execution_count": 5,
   "id": "f7fd7035",
   "metadata": {},
   "outputs": [],
   "source": [
    "#1.Distance\n",
    "#mocking data\n",
    "\n",
    "data = {\n",
    "    \"ID\":[\"P1\",\"P2\",\"P3\",\"P4\"],\n",
    "\"x\":[0,2,3,5],\n",
    "\"y\":[2,0,1,1],\n",
    "}\n"
   ]
  },
  {
   "cell_type": "code",
   "execution_count": 11,
   "id": "621446c3",
   "metadata": {},
   "outputs": [
    {
     "data": {
      "application/vnd.microsoft.datawrangler.viewer.v0+json": {
       "columns": [
        {
         "name": "ID",
         "rawType": "object",
         "type": "string"
        },
        {
         "name": "x",
         "rawType": "int64",
         "type": "integer"
        },
        {
         "name": "y",
         "rawType": "int64",
         "type": "integer"
        }
       ],
       "ref": "d443ffd7-a242-44b8-badf-b2758cb80748",
       "rows": [
        [
         "P1",
         "0",
         "2"
        ],
        [
         "P2",
         "2",
         "0"
        ],
        [
         "P3",
         "3",
         "1"
        ],
        [
         "P4",
         "5",
         "1"
        ]
       ],
       "shape": {
        "columns": 2,
        "rows": 4
       }
      },
      "text/html": [
       "<div>\n",
       "<style scoped>\n",
       "    .dataframe tbody tr th:only-of-type {\n",
       "        vertical-align: middle;\n",
       "    }\n",
       "\n",
       "    .dataframe tbody tr th {\n",
       "        vertical-align: top;\n",
       "    }\n",
       "\n",
       "    .dataframe thead th {\n",
       "        text-align: right;\n",
       "    }\n",
       "</style>\n",
       "<table border=\"1\" class=\"dataframe\">\n",
       "  <thead>\n",
       "    <tr style=\"text-align: right;\">\n",
       "      <th></th>\n",
       "      <th>x</th>\n",
       "      <th>y</th>\n",
       "    </tr>\n",
       "    <tr>\n",
       "      <th>ID</th>\n",
       "      <th></th>\n",
       "      <th></th>\n",
       "    </tr>\n",
       "  </thead>\n",
       "  <tbody>\n",
       "    <tr>\n",
       "      <th>P1</th>\n",
       "      <td>0</td>\n",
       "      <td>2</td>\n",
       "    </tr>\n",
       "    <tr>\n",
       "      <th>P2</th>\n",
       "      <td>2</td>\n",
       "      <td>0</td>\n",
       "    </tr>\n",
       "    <tr>\n",
       "      <th>P3</th>\n",
       "      <td>3</td>\n",
       "      <td>1</td>\n",
       "    </tr>\n",
       "    <tr>\n",
       "      <th>P4</th>\n",
       "      <td>5</td>\n",
       "      <td>1</td>\n",
       "    </tr>\n",
       "  </tbody>\n",
       "</table>\n",
       "</div>"
      ],
      "text/plain": [
       "    x  y\n",
       "ID      \n",
       "P1  0  2\n",
       "P2  2  0\n",
       "P3  3  1\n",
       "P4  5  1"
      ]
     },
     "execution_count": 11,
     "metadata": {},
     "output_type": "execute_result"
    }
   ],
   "source": [
    "#แปลง dictionary to dataframe\n",
    "df = pd.DataFrame(data).set_index(\"ID\")\n",
    "df"
   ]
  },
  {
   "cell_type": "code",
   "execution_count": 21,
   "id": "6170ca4b",
   "metadata": {},
   "outputs": [
    {
     "name": "stdout",
     "output_type": "stream",
     "text": [
      "manhatta \n",
      " ID   P1   P2   P3   P4\n",
      "ID                    \n",
      "P1  0.0  4.0  4.0  6.0\n",
      "P2  4.0  0.0  2.0  4.0\n",
      "P3  4.0  2.0  0.0  2.0\n",
      "P4  6.0  4.0  2.0  0.0\n",
      "eucildian \n",
      " ID     P1     P2     P3     P4\n",
      "ID                            \n",
      "P1  0.000  2.828  3.162  5.099\n",
      "P2  2.828  0.000  1.414  3.162\n",
      "P3  3.162  1.414  0.000  2.000\n",
      "P4  5.099  3.162  2.000  0.000\n",
      "minkowsky \n",
      " ID     P1     P2     P3     P4\n",
      "ID                            \n",
      "P1  0.000  2.520  3.037  5.013\n",
      "P2  2.520  0.000  1.260  3.037\n",
      "P3  3.037  1.260  0.000  2.000\n",
      "P4  5.013  3.037  2.000  0.000\n"
     ]
    }
   ],
   "source": [
    "#manhattan\n",
    "manhattan = distance_matrix(df.values,df.values,p=1)\n",
    "manhattan = pd.DataFrame(manhattan, index=df.index, columns=df.index)\n",
    "print(\"manhatta \\n\",manhattan)\n",
    "\n",
    "#eucild\n",
    "eucildian = distance_matrix(df.values,df.values,p=2)\n",
    "eucildian = pd.DataFrame(eucildian, index=df.index, columns=df.index)\n",
    "print(\"eucildian \\n\",eucildian.round(3))\n",
    "\n",
    "#minkowsky p=3\n",
    "minkowsky = distance_matrix(df.values,df.values,p=3)\n",
    "minkowsky = pd.DataFrame(minkowsky, index=df.index, columns=df.index)\n",
    "print(\"minkowsky \\n\",minkowsky.round(3))"
   ]
  }
 ],
 "metadata": {
  "kernelspec": {
   "display_name": "environments (3.13.5)",
   "language": "python",
   "name": "python3"
  },
  "language_info": {
   "codemirror_mode": {
    "name": "ipython",
    "version": 3
   },
   "file_extension": ".py",
   "mimetype": "text/x-python",
   "name": "python",
   "nbconvert_exporter": "python",
   "pygments_lexer": "ipython3",
   "version": "3.13.5"
  }
 },
 "nbformat": 4,
 "nbformat_minor": 5
}
