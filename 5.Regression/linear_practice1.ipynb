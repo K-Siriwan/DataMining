{
 "cells": [
  {
   "cell_type": "code",
   "execution_count": null,
   "id": "b8127d34",
   "metadata": {
    "notebookRunGroups": {
     "groupValue": "1"
    }
   },
   "outputs": [],
   "source": []
  },
  {
   "cell_type": "markdown",
   "id": "8c16fe8b",
   "metadata": {},
   "source": [
    "##  แบบฝึกหัดข้อที่ 1 \n",
    "**คำสั่ง:**\n",
    "ให้สร้าง File ใหม่ ชื่อ linear_practice I\n",
    "1. เตรียมข้อมูลให้เป็น `DataFrame`\n",
    "2. สร้างแผนภาพการกระจาย `Scatterplot`\n",
    "3. หาสัมประสิทธิ์สหสัมพันธ์ Corrleration: `.corr()`\n",
    "4. สร้าง `linear Regression Moldel`\n",
    "5. จงหาค่า y_pred เมื่อ ค่า x เป็นค่าเริ่มต้น \n",
    "6. จงหา `MAE, MSE, RMSE `\n",
    "7. ทำนายค่า เมื่อ x เป็น 4.5 \n",
    "8. ทำนายค่า เมื่อ x เป็น  1.5, 2.4, 3.6, 4.2, 5.8 ใยห้สร้างเป็น Array \n",
    "\n",
    "กำหนดข้อมูลเบื้องต้น\n",
    "\n",
    "**เดือน** \n",
    " `x=[1, 2, 3, 4, 5, 6, 7, 8, 9, 10]`  \n",
    "\n",
    "**จำนวนสินค้าที่ขายได้ในแต่ละเดือน**\n",
    " `y=[25,35,40,42,51,60,62,72,78,90]`"
   ]
  },
  {
   "cell_type": "code",
   "execution_count": 4,
   "id": "a8c3baf0",
   "metadata": {},
   "outputs": [],
   "source": [
    "import matplotlib.pyplot as plt\n",
    "import pandas as pd\n",
    "import numpy as np\n",
    "import seaborn as sns"
   ]
  },
  {
   "cell_type": "markdown",
   "id": "f23fb956",
   "metadata": {},
   "source": [
    "## 1.เตรียมข้อมูลให้เป็น `DataFrame`"
   ]
  },
  {
   "cell_type": "code",
   "execution_count": 5,
   "id": "e2f8ebc4",
   "metadata": {},
   "outputs": [
    {
     "data": {
      "application/vnd.microsoft.datawrangler.viewer.v0+json": {
       "columns": [
        {
         "name": "index",
         "rawType": "int64",
         "type": "integer"
        },
        {
         "name": "x",
         "rawType": "int64",
         "type": "integer"
        },
        {
         "name": "y",
         "rawType": "int64",
         "type": "integer"
        }
       ],
       "ref": "45827499-6358-43a8-ba40-950103156144",
       "rows": [
        [
         "0",
         "1",
         "25"
        ],
        [
         "1",
         "2",
         "35"
        ],
        [
         "2",
         "3",
         "40"
        ],
        [
         "3",
         "4",
         "42"
        ],
        [
         "4",
         "5",
         "51"
        ],
        [
         "5",
         "6",
         "60"
        ],
        [
         "6",
         "7",
         "62"
        ],
        [
         "7",
         "8",
         "72"
        ],
        [
         "8",
         "9",
         "78"
        ],
        [
         "9",
         "10",
         "90"
        ]
       ],
       "shape": {
        "columns": 2,
        "rows": 10
       }
      },
      "text/html": [
       "<div>\n",
       "<style scoped>\n",
       "    .dataframe tbody tr th:only-of-type {\n",
       "        vertical-align: middle;\n",
       "    }\n",
       "\n",
       "    .dataframe tbody tr th {\n",
       "        vertical-align: top;\n",
       "    }\n",
       "\n",
       "    .dataframe thead th {\n",
       "        text-align: right;\n",
       "    }\n",
       "</style>\n",
       "<table border=\"1\" class=\"dataframe\">\n",
       "  <thead>\n",
       "    <tr style=\"text-align: right;\">\n",
       "      <th></th>\n",
       "      <th>x</th>\n",
       "      <th>y</th>\n",
       "    </tr>\n",
       "  </thead>\n",
       "  <tbody>\n",
       "    <tr>\n",
       "      <th>0</th>\n",
       "      <td>1</td>\n",
       "      <td>25</td>\n",
       "    </tr>\n",
       "    <tr>\n",
       "      <th>1</th>\n",
       "      <td>2</td>\n",
       "      <td>35</td>\n",
       "    </tr>\n",
       "    <tr>\n",
       "      <th>2</th>\n",
       "      <td>3</td>\n",
       "      <td>40</td>\n",
       "    </tr>\n",
       "    <tr>\n",
       "      <th>3</th>\n",
       "      <td>4</td>\n",
       "      <td>42</td>\n",
       "    </tr>\n",
       "    <tr>\n",
       "      <th>4</th>\n",
       "      <td>5</td>\n",
       "      <td>51</td>\n",
       "    </tr>\n",
       "    <tr>\n",
       "      <th>5</th>\n",
       "      <td>6</td>\n",
       "      <td>60</td>\n",
       "    </tr>\n",
       "    <tr>\n",
       "      <th>6</th>\n",
       "      <td>7</td>\n",
       "      <td>62</td>\n",
       "    </tr>\n",
       "    <tr>\n",
       "      <th>7</th>\n",
       "      <td>8</td>\n",
       "      <td>72</td>\n",
       "    </tr>\n",
       "    <tr>\n",
       "      <th>8</th>\n",
       "      <td>9</td>\n",
       "      <td>78</td>\n",
       "    </tr>\n",
       "    <tr>\n",
       "      <th>9</th>\n",
       "      <td>10</td>\n",
       "      <td>90</td>\n",
       "    </tr>\n",
       "  </tbody>\n",
       "</table>\n",
       "</div>"
      ],
      "text/plain": [
       "    x   y\n",
       "0   1  25\n",
       "1   2  35\n",
       "2   3  40\n",
       "3   4  42\n",
       "4   5  51\n",
       "5   6  60\n",
       "6   7  62\n",
       "7   8  72\n",
       "8   9  78\n",
       "9  10  90"
      ]
     },
     "execution_count": 5,
     "metadata": {},
     "output_type": "execute_result"
    }
   ],
   "source": [
    "x_data = [1, 2, 3, 4, 5, 6, 7, 8, 9, 10] \n",
    "y_data = [25,35,40,42,51,60,62,72,78,90] \n",
    "x = np.array(x_data) \n",
    "y = np.array(y_data)\n",
    "\n",
    "data_dict = { \"x\": x_data, \"y\": y_data} \n",
    "\n",
    "df = pd.DataFrame(data_dict)\n",
    "df"
   ]
  },
  {
   "cell_type": "markdown",
   "id": "681b34d9",
   "metadata": {},
   "source": [
    "## 2.สร้างแผนภาพการกระจาย `Scatterplot`"
   ]
  },
  {
   "cell_type": "code",
   "execution_count": 6,
   "id": "97506a4c",
   "metadata": {},
   "outputs": [
    {
     "data": {
      "image/png": "[encoded data removed]",
      "text/plain": [
       "<Figure size 640x480 with 1 Axes>"
      ]
     },
     "metadata": {},
     "output_type": "display_data"
    }
   ],
   "source": [
    "plt.scatter(x,y)\n",
    "plt.show()"
   ]
  },
  {
   "cell_type": "markdown",
   "id": "eea95086",
   "metadata": {},
   "source": [
    "## 3.หาสัมประสิทธิ์สหสัมพันธ์ Corrleration: `.corr()`"
   ]
  },
  {
   "cell_type": "code",
   "execution_count": 7,
   "id": "abb41fce",
   "metadata": {},
   "outputs": [
    {
     "data": {
      "application/vnd.microsoft.datawrangler.viewer.v0+json": {
       "columns": [
        {
         "name": "index",
         "rawType": "object",
         "type": "string"
        },
        {
         "name": "x",
         "rawType": "float64",
         "type": "float"
        },
        {
         "name": "y",
         "rawType": "float64",
         "type": "float"
        }
       ],
       "ref": "e2c29e06-ff17-4799-9537-806a97b7e59f",
       "rows": [
        [
         "x",
         "1.0",
         "0.9925001128510155"
        ],
        [
         "y",
         "0.9925001128510155",
         "1.0"
        ]
       ],
       "shape": {
        "columns": 2,
        "rows": 2
       }
      },
      "text/html": [
       "<div>\n",
       "<style scoped>\n",
       "    .dataframe tbody tr th:only-of-type {\n",
       "        vertical-align: middle;\n",
       "    }\n",
       "\n",
       "    .dataframe tbody tr th {\n",
       "        vertical-align: top;\n",
       "    }\n",
       "\n",
       "    .dataframe thead th {\n",
       "        text-align: right;\n",
       "    }\n",
       "</style>\n",
       "<table border=\"1\" class=\"dataframe\">\n",
       "  <thead>\n",
       "    <tr style=\"text-align: right;\">\n",
       "      <th></th>\n",
       "      <th>x</th>\n",
       "      <th>y</th>\n",
       "    </tr>\n",
       "  </thead>\n",
       "  <tbody>\n",
       "    <tr>\n",
       "      <th>x</th>\n",
       "      <td>1.0000</td>\n",
       "      <td>0.9925</td>\n",
       "    </tr>\n",
       "    <tr>\n",
       "      <th>y</th>\n",
       "      <td>0.9925</td>\n",
       "      <td>1.0000</td>\n",
       "    </tr>\n",
       "  </tbody>\n",
       "</table>\n",
       "</div>"
      ],
      "text/plain": [
       "        x       y\n",
       "x  1.0000  0.9925\n",
       "y  0.9925  1.0000"
      ]
     },
     "execution_count": 7,
     "metadata": {},
     "output_type": "execute_result"
    }
   ],
   "source": [
    "df.corr()"
   ]
  },
  {
   "cell_type": "markdown",
   "id": "0f277fee",
   "metadata": {},
   "source": [
    "## 4.สร้าง `linear Regression Moldel`"
   ]
  },
  {
   "cell_type": "code",
   "execution_count": 8,
   "id": "5aadd2bb",
   "metadata": {},
   "outputs": [
    {
     "data": {
      "text/plain": [
       "((10, 1), (10, 1))"
      ]
     },
     "execution_count": 8,
     "metadata": {},
     "output_type": "execute_result"
    }
   ],
   "source": [
    "from sklearn.linear_model import LinearRegression\n",
    "model = LinearRegression()  \n",
    "x = x.reshape(-1,1)\n",
    "y = y.reshape(-1,1)\n",
    "x.shape, y.shape"
   ]
  },
  {
   "cell_type": "markdown",
   "id": "a18e1db8",
   "metadata": {},
   "source": [
    "## 5.จงหาค่า y_pred เมื่อ ค่า x เป็นค่าเริ่มต้น "
   ]
  },
  {
   "cell_type": "code",
   "execution_count": 13,
   "id": "dd02c555",
   "metadata": {},
   "outputs": [
    {
     "data": {
      "text/plain": [
       "array([[25],\n",
       "       [35],\n",
       "       [40],\n",
       "       [42],\n",
       "       [51],\n",
       "       [60],\n",
       "       [62],\n",
       "       [72],\n",
       "       [78],\n",
       "       [90]])"
      ]
     },
     "execution_count": 13,
     "metadata": {},
     "output_type": "execute_result"
    }
   ],
   "source": [
    "y_true = y\n",
    "x_true = x\n",
    "\n",
    "model = LinearRegression()\n",
    "model.fit(x, y)\n",
    "\n",
    "y_pred = model.predict(x_true)\n",
    "y"
   ]
  },
  {
   "cell_type": "markdown",
   "id": "7889734b",
   "metadata": {},
   "source": [
    "## 6.จงหา `MAE, MSE, RMSE `"
   ]
  },
  {
   "cell_type": "code",
   "execution_count": 15,
   "id": "2899f75c",
   "metadata": {},
   "outputs": [],
   "source": [
    "err= y_true - y_pred"
   ]
  },
  {
   "cell_type": "code",
   "execution_count": 23,
   "id": "594d48dd",
   "metadata": {},
   "outputs": [
    {
     "name": "stdout",
     "output_type": "stream",
     "text": [
      "=== ไม่รับโอนจ้ะ ===\n",
      "       MAE  = 1.95152   \n",
      "\n",
      "          MSE = 5.71515 \n",
      "\n",
      "          RMSE = 2.39064 ===\n"
     ]
    }
   ],
   "source": [
    "from sklearn.metrics import mean_squared_error, mean_absolute_error\n",
    "mse = mean_squared_error(y_true, y_pred)\n",
    "mae = mean_absolute_error(y_true, y_pred)\n",
    "rmse = np.sqrt(mse)\n",
    "\n",
    "print(f\"\"\"=== ไม่รับโอนจ้ะ ===\n",
    "       MAE  = {mae:.5f}   \n",
    "        \n",
    "          MSE = {mse:.5f} \n",
    "\n",
    "          RMSE = {rmse:.5f} ===\"\"\")"
   ]
  },
  {
   "cell_type": "markdown",
   "id": "42e62bad",
   "metadata": {},
   "source": [
    "## 7.ทำนายค่า เมื่อ x เป็น 4.5 "
   ]
  },
  {
   "cell_type": "code",
   "execution_count": 28,
   "id": "6d95d094",
   "metadata": {},
   "outputs": [
    {
     "name": "stdout",
     "output_type": "stream",
     "text": [
      "[[48.74242424]]\n"
     ]
    }
   ],
   "source": [
    "x_pred = np.array([[4.5]])\n",
    "print(model.predict(x_pred))"
   ]
  },
  {
   "cell_type": "markdown",
   "id": "ad1ea0d1",
   "metadata": {},
   "source": [
    "## 8.ทำนายค่า เมื่อ x เป็น  1.5, 2.4, 3.6, 4.2, 5.8 ใยห้สร้างเป็น Array \n"
   ]
  },
  {
   "cell_type": "code",
   "execution_count": 34,
   "id": "19a0279f",
   "metadata": {},
   "outputs": [
    {
     "name": "stdout",
     "output_type": "stream",
     "text": [
      "[[28.46969697]\n",
      " [34.55151515]\n",
      " [42.66060606]\n",
      " [46.71515152]\n",
      " [57.52727273]]\n"
     ]
    }
   ],
   "source": [
    "x_pred_arr = [[1.5], [2.4], [3.6], [4.2], [5.8]]\n",
    "print(model.predict(x_pred_arr))"
   ]
  }
 ],
 "metadata": {
  "kernelspec": {
   "display_name": "Python 3",
   "language": "python",
   "name": "python3"
  },
  "language_info": {
   "codemirror_mode": {
    "name": "ipython",
    "version": 3
   },
   "file_extension": ".py",
   "mimetype": "text/x-python",
   "name": "python",
   "nbconvert_exporter": "python",
   "pygments_lexer": "ipython3",
   "version": "3.13.5"
  }
 },
 "nbformat": 4,
 "nbformat_minor": 5
}
