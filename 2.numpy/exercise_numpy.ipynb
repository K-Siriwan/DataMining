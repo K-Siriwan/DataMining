{
 "cells": [
  {
   "cell_type": "markdown",
   "id": "3c8647ba",
   "metadata": {},
   "source": [
    "## 1. สร้างอาเรย์ 1 มิติ ที่มีค่าเป็นเลขคี่จาก 1 ถึง 15 โดยใช้ np.arange()"
   ]
  },
  {
   "cell_type": "code",
   "execution_count": 1,
   "id": "d65a8932",
   "metadata": {},
   "outputs": [
    {
     "name": "stdout",
     "output_type": "stream",
     "text": [
      "1D array (เลขคี่): [ 1  3  5  7  9 11 13 15]\n"
     ]
    }
   ],
   "source": [
    "import numpy as np\n",
    "\n",
    "array_1d = np.arange(1, 16, 2)  # เริ่มที่ 1 ถึง 15 โดยเพิ่มทีละ 2 (เลขคี่)\n",
    "print(\"1D array (เลขคี่):\", array_1d)"
   ]
  },
  {
   "cell_type": "markdown",
   "id": "79909212",
   "metadata": {},
   "source": [
    "## 2. สร้างอาเรย์ 2 มิติ ขนาด 3 แถว 5 คอลัมน์ ที่มีค่าเริ่มต้นเป็น 9"
   ]
  },
  {
   "cell_type": "code",
   "execution_count": 2,
   "id": "1670f44a",
   "metadata": {},
   "outputs": [
    {
     "name": "stdout",
     "output_type": "stream",
     "text": [
      "2D array (ค่าเป็น 9):\n",
      " [[9 9 9 9 9]\n",
      " [9 9 9 9 9]\n",
      " [9 9 9 9 9]]\n"
     ]
    }
   ],
   "source": [
    "array_2d = np.full((3, 5), 9)  # สร้าง array ขนาด 3x5 ที่มีค่าเป็น 9\n",
    "print(\"2D array (ค่าเป็น 9):\\n\", array_2d)"
   ]
  },
  {
   "cell_type": "markdown",
   "id": "af3f0ea1",
   "metadata": {},
   "source": [
    "##  3. สร้างอาเรย์ 3 มิติ ขนาด 2 × 3 × 4 ที่มีค่าเป็น 0 โดยใช้ np.zeros() และตรวจสอบ shape"
   ]
  },
  {
   "cell_type": "code",
   "execution_count": 3,
   "id": "30d7f1fe",
   "metadata": {},
   "outputs": [
    {
     "name": "stdout",
     "output_type": "stream",
     "text": [
      "3D array (ค่าเป็น 0):\n",
      " [[[0. 0. 0. 0.]\n",
      "  [0. 0. 0. 0.]\n",
      "  [0. 0. 0. 0.]]\n",
      "\n",
      " [[0. 0. 0. 0.]\n",
      "  [0. 0. 0. 0.]\n",
      "  [0. 0. 0. 0.]]]\n",
      "Shape ของ 3D array: (2, 3, 4)\n"
     ]
    }
   ],
   "source": [
    "array_3d = np.zeros((2, 3, 4))  # สร้าง array ขนาด 2x3x4 ที่มีค่าเป็น 0\n",
    "print(\"3D array (ค่าเป็น 0):\\n\", array_3d)\n",
    "print(\"Shape ของ 3D array:\", array_3d.shape)"
   ]
  },
  {
   "cell_type": "markdown",
   "id": "fa2f86ad",
   "metadata": {},
   "source": [
    "##  4. ใช้ np.linspace() เพื่อสร้างอาเรย์ที่มี 10 ค่า กระจายจาก 0 ถึง 5 แบบช่วงเท่ากัน"
   ]
  },
  {
   "cell_type": "code",
   "execution_count": 4,
   "id": "bb84cb9d",
   "metadata": {},
   "outputs": [
    {
     "name": "stdout",
     "output_type": "stream",
     "text": [
      "Array จาก linspace:\n",
      " [0.         0.55555556 1.11111111 1.66666667 2.22222222 2.77777778\n",
      " 3.33333333 3.88888889 4.44444444 5.        ]\n"
     ]
    }
   ],
   "source": [
    "array_linspace = np.linspace(0, 5, 10)  # เริ่มจาก 0 ถึง 5 มี 10 ค่า\n",
    "print(\"Array จาก linspace:\\n\", array_linspace)"
   ]
  },
  {
   "cell_type": "markdown",
   "id": "80715d74",
   "metadata": {},
   "source": [
    "## แบบฝึกหัด: NumPy Indexing & Slicing default_array = np.array([1,2,3,4,5,6]) default_array_2d = np.array([ [1,2,3,4], [5,6,7,8], [9,10,11,12]"
   ]
  },
  {
   "cell_type": "code",
   "execution_count": 6,
   "id": "2bc0f306",
   "metadata": {},
   "outputs": [],
   "source": [
    "import numpy as np\n",
    "\n",
    "# สร้างอาเรย์ต้นฉบับ\n",
    "default_array = np.array([1, 2, 3, 4, 5, 6])\n",
    "default_array_2d = np.array([\n",
    "    [1, 2, 3, 4],\n",
    "    [5, 6, 7, 8],\n",
    "    [9, 10, 11, 12]\n",
    "])"
   ]
  },
  {
   "cell_type": "markdown",
   "id": "07865296",
   "metadata": {},
   "source": [
    "##  1. เลือกสมาชิกตัวสุดท้ายของ default_array"
   ]
  },
  {
   "cell_type": "code",
   "execution_count": 7,
   "id": "ce603363",
   "metadata": {},
   "outputs": [
    {
     "name": "stdout",
     "output_type": "stream",
     "text": [
      "last_item: 6\n"
     ]
    }
   ],
   "source": [
    "last_item = default_array[-1]\n",
    "print(\"last_item:\", last_item)"
   ]
  },
  {
   "cell_type": "markdown",
   "id": "d8fc8a4d",
   "metadata": {},
   "source": [
    "##  2. เลือกสมาชิกตั้งแต่ตำแหน่งที่ 2 ถึง 4 (index 1 ถึง 3)"
   ]
  },
  {
   "cell_type": "code",
   "execution_count": 8,
   "id": "19975ebc",
   "metadata": {},
   "outputs": [
    {
     "name": "stdout",
     "output_type": "stream",
     "text": [
      "slice_2_to_4: [2 3 4]\n"
     ]
    }
   ],
   "source": [
    "slice_2_to_4 = default_array[1:4]\n",
    "print(\"slice_2_to_4:\", slice_2_to_4)"
   ]
  },
  {
   "cell_type": "markdown",
   "id": "b3eca826",
   "metadata": {},
   "source": [
    "##  3. เลือกค่าทั้งหมดในคอลัมน์ที่ 2 ของ default_array_2d"
   ]
  },
  {
   "cell_type": "code",
   "execution_count": 9,
   "id": "740e7088",
   "metadata": {},
   "outputs": [
    {
     "name": "stdout",
     "output_type": "stream",
     "text": [
      "column_2: [ 2  6 10]\n"
     ]
    }
   ],
   "source": [
    "column_2 = default_array_2d[:, 1]\n",
    "print(\"column_2:\", column_2)"
   ]
  },
  {
   "cell_type": "markdown",
   "id": "664ed736",
   "metadata": {},
   "source": [
    "## 4. เลือกค่าในแถวแรก 2 ตัวสุดท้าย ของ default_array_2d\n"
   ]
  },
  {
   "cell_type": "code",
   "execution_count": 10,
   "id": "51d02d6b",
   "metadata": {},
   "outputs": [
    {
     "name": "stdout",
     "output_type": "stream",
     "text": [
      "row1_last2: [3 4]\n"
     ]
    }
   ],
   "source": [
    "row1_last2 = default_array_2d[0, -2:]\n",
    "print(\"row1_last2:\", row1_last2)"
   ]
  },
  {
   "cell_type": "markdown",
   "id": "cb6b123e",
   "metadata": {},
   "source": [
    "##  5. เลือกค่าที่อยู่มุมขวาล่าง (แถวสุดท้าย คอลัมน์สุดท้าย)"
   ]
  },
  {
   "cell_type": "code",
   "execution_count": 11,
   "id": "726bb2e9",
   "metadata": {},
   "outputs": [
    {
     "name": "stdout",
     "output_type": "stream",
     "text": [
      "bottom_right: 12\n"
     ]
    }
   ],
   "source": [
    "bottom_right = default_array_2d[-1, -1]\n",
    "print(\"bottom_right:\", bottom_right)"
   ]
  },
  {
   "cell_type": "markdown",
   "id": "8e803416",
   "metadata": {},
   "source": [
    "## แบบฝึกหัด 3:\n",
    "\n",
    "คำนวณ (x^2 + 2x) เมื่อ x = [1,2,3,4]"
   ]
  },
  {
   "cell_type": "code",
   "execution_count": 12,
   "id": "fdc2cf09",
   "metadata": {},
   "outputs": [
    {
     "name": "stdout",
     "output_type": "stream",
     "text": [
      "ผลลัพธ์ของ x^2 + 2x: [ 3  8 15 24]\n"
     ]
    }
   ],
   "source": [
    "import numpy as np\n",
    "\n",
    "x = np.array([1, 2, 3, 4])\n",
    "result = x**2 + 2*x\n",
    "\n",
    "print(\"ผลลัพธ์ของ x^2 + 2x:\", result)"
   ]
  }
 ],
 "metadata": {
  "kernelspec": {
   "display_name": "env (3.13.5)",
   "language": "python",
   "name": "python3"
  },
  "language_info": {
   "codemirror_mode": {
    "name": "ipython",
    "version": 3
   },
   "file_extension": ".py",
   "mimetype": "text/x-python",
   "name": "python",
   "nbconvert_exporter": "python",
   "pygments_lexer": "ipython3",
   "version": "3.13.5"
  }
 },
 "nbformat": 4,
 "nbformat_minor": 5
}
