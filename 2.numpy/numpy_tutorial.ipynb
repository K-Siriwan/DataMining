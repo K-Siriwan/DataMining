{
 "cells": [
  {
   "cell_type": "markdown",
   "id": "a3bd58ca",
   "metadata": {},
   "source": [
    "## 1. import numpy as np เรียกใช้งาน numpy"
   ]
  },
  {
   "cell_type": "code",
   "execution_count": 1,
   "id": "5c647183",
   "metadata": {},
   "outputs": [],
   "source": [
    "import numpy as np"
   ]
  },
  {
   "cell_type": "code",
   "execution_count": 5,
   "id": "fc808258",
   "metadata": {},
   "outputs": [],
   "source": [
    "# syntax creating arr\n",
    "# arr_name = np.arr(1)\n",
    "\n",
    "\n",
    "# 1 - dimensiona1 array 1,5,2,0 \n",
    "arr_1d = np.array([ 1, 5, 2, 0 ])\n",
    "# 2 - dimensional array  1,5,2,0  8,3,6,1  1,7,2,9\n",
    "arr_2d = np.array([ [1,5,2,0], [8,3,6,1], [1,7,2,9] ])\n",
    "\n",
    "# 3 - dimensional array 10, 15, 20, 25   30, 35, 40, 45   50, 55, 60, 65 \n",
    "arr_3d = np.array([ [10, 15], \n",
    "                [ 20, 25], \n",
    "                \n",
    "                [30, 35], \n",
    "                [40, 45],\n",
    "                \n",
    "                [50, 55], \n",
    "                [60, 65] ])\n"
   ]
  },
  {
   "cell_type": "code",
   "execution_count": 11,
   "id": "da17d952",
   "metadata": {},
   "outputs": [
    {
     "name": "stdout",
     "output_type": "stream",
     "text": [
      "[1 5 2 0]\n",
      "......\n",
      "[[1 5 2 0]\n",
      " [8 3 6 1]\n",
      " [1 7 2 9]]\n",
      "......\n",
      "[[10 15]\n",
      " [20 25]\n",
      " [30 35]\n",
      " [40 45]\n",
      " [50 55]\n",
      " [60 65]]\n"
     ]
    }
   ],
   "source": [
    "print (arr_1d)\n",
    "print ('......')\n",
    "print (arr_2d)\n",
    "print ('......')\n",
    "print (arr_3d)"
   ]
  },
  {
   "cell_type": "code",
   "execution_count": 12,
   "id": "868dc9af",
   "metadata": {},
   "outputs": [],
   "source": [
    "default_array = np.array([1,2,3,4,5,6])\n",
    "default_array_2d = np.array([ [1,2,3,4], [5,6,7,8], [9,10,11,12] ])"
   ]
  },
  {
   "cell_type": "code",
   "execution_count": 16,
   "id": "e1ec112f",
   "metadata": {},
   "outputs": [
    {
     "data": {
      "text/plain": [
       "np.int64(8)"
      ]
     },
     "execution_count": 16,
     "metadata": {},
     "output_type": "execute_result"
    }
   ],
   "source": [
    "# สามตัวแรก จาก default_array\n",
    "# default_array[ :3]\n",
    "\n",
    "# ตัวที่ 4 เป็นต้นไป \n",
    "# default_array[3:]\n",
    "\n",
    "# สมาชิกใน row 2 columns 4 \n",
    "default_array_2d[1,3]"
   ]
  },
  {
   "cell_type": "code",
   "execution_count": 18,
   "id": "033dfe2a",
   "metadata": {},
   "outputs": [],
   "source": [
    "array_attribute = np.array([ [  1, 2, 3, 4 ], [  5, 6, 7, 8 ], [ 9, 10, 11, 12 ] ])"
   ]
  },
  {
   "cell_type": "code",
   "execution_count": 27,
   "id": "e069fdb0",
   "metadata": {},
   "outputs": [
    {
     "data": {
      "text/plain": [
       "dtype('int64')"
      ]
     },
     "execution_count": 27,
     "metadata": {},
     "output_type": "execute_result"
    }
   ],
   "source": [
    "#ตรวจสอบคุณสมบัติของarr\n",
    "\n",
    "\n",
    "# array_attribute.ndim ดูว่ามีกี่มิติ\n",
    "# array_attribute.ndim\n",
    "# array_attribute.shape ดูว่ามีกี่แถวกี่คอลัมน์\n",
    "# array_attribute.shape\n",
    "# array_attribute.size จำนวนสมาชิก\n",
    "# array_attribute.size\n",
    "# array_attribute.dtype ตรวจสอบชนิดข้อมูล\n",
    "array_attribute.dtype\n"
   ]
  },
  {
   "cell_type": "code",
   "execution_count": 30,
   "id": "48f0accd",
   "metadata": {},
   "outputs": [],
   "source": [
    "zero_2d_array = np.zeros(2)\n",
    "one_1d_array = np.ones(5)\n",
    "arange_array = np.arange(4)\n",
    "step_arange_array= np.arange(2,9,2)  # start stop step "
   ]
  },
  {
   "cell_type": "code",
   "execution_count": 34,
   "id": "3a57ca7e",
   "metadata": {},
   "outputs": [
    {
     "name": "stdout",
     "output_type": "stream",
     "text": [
      "[0. 0.]\n",
      "[1. 1. 1. 1. 1.]\n",
      "[0 1 2 3]\n",
      "[2 4 6 8]\n"
     ]
    }
   ],
   "source": [
    "print(zero_2d_array)\n",
    "print(one_1d_array)\n",
    "print(arange_array)\n",
    "print(step_arange_array)"
   ]
  },
  {
   "cell_type": "code",
   "execution_count": 36,
   "id": "708ad99e",
   "metadata": {},
   "outputs": [],
   "source": [
    "data = np.array([ 1, 2])\n",
    "ones = np.ones(2)# [1, 1 ]\n",
    "b = np.array([ [1,1], [2,2] ])  \n",
    "# [ 1, 1 ]  \n",
    "# [ 2, 2 ]"
   ]
  },
  {
   "cell_type": "code",
   "execution_count": null,
   "id": "570b186a",
   "metadata": {},
   "outputs": [],
   "source": []
  },
  {
   "cell_type": "code",
   "execution_count": 37,
   "id": "f2d5eef7",
   "metadata": {},
   "outputs": [],
   "source": [
    "sum = data + ones  \n",
    "diff = data - ones \n",
    "multiply_array = data * ones \n",
    "divide_array = data/ones\n",
    "col_sum = b.sum(axis=0) # ผลรวมแนว column\n",
    "row_sum= b.sum(axis=1) # ผลรวมแนว row "
   ]
  },
  {
   "cell_type": "code",
   "execution_count": 38,
   "id": "9d583915",
   "metadata": {},
   "outputs": [
    {
     "name": "stdout",
     "output_type": "stream",
     "text": [
      "[2 4]\n"
     ]
    }
   ],
   "source": [
    "sum\n",
    "diff\n",
    "multiply_array\n",
    "divide_array\n",
    "# print(col_sum)  \n",
    "print(row_sum)"
   ]
  },
  {
   "cell_type": "code",
   "execution_count": 39,
   "id": "d98a1130",
   "metadata": {},
   "outputs": [
    {
     "name": "stdout",
     "output_type": "stream",
     "text": [
      "[[0.75879173 0.87103277 0.31193526 0.54841943]\n",
      " [0.63241477 0.48155434 0.49472161 0.46648236]\n",
      " [0.99850095 0.83424377 0.12663586 0.64397072]\n",
      " [0.91092693 0.16268498 0.68297512 0.55207992]]\n"
     ]
    }
   ],
   "source": [
    "# np.set_printoptions(precision, suppress)  \n",
    "# precision: dataType:int default: 8  กำหนดทศนิยม \n",
    "# suppress:  dataType: Bool default: False  แสดงผลในรูปแบบวิทยาศาสตร์  True จะกำหนดให้ใช้ ทศนิยม \n",
    "\n",
    "np.set_printoptions()  \n",
    "# np.set_printoptions(precision=2, suppress=True)  \n",
    "arr = np.random.rand(4,4)\n",
    "print(arr)"
   ]
  },
  {
   "cell_type": "code",
   "execution_count": 40,
   "id": "43d68d59",
   "metadata": {},
   "outputs": [
    {
     "name": "stdout",
     "output_type": "stream",
     "text": [
      "a + b = [5 7 9]\n",
      "a * 10 = [10 20 30]\n",
      "a ** 2 = [1 4 9]\n",
      "b/2 [2.  2.5 3. ]\n"
     ]
    }
   ],
   "source": [
    "a = np.array([1,2,3])\n",
    "b = np.array([4,5,6])\n",
    "\n",
    "print(\"a + b =\", a + b)\n",
    "print(\"a * 10 =\", a * 10)\n",
    "print(\"a ** 2 =\", a ** 2)\n",
    "print(\"b/2\", b/2)"
   ]
  },
  {
   "cell_type": "code",
   "execution_count": 41,
   "id": "469a6e79",
   "metadata": {},
   "outputs": [
    {
     "name": "stdout",
     "output_type": "stream",
     "text": [
      "a + b = [5 7 9]\n",
      "a * 10 = [10 20 30]\n",
      "a ** 2 = [1 4 9]\n",
      "b/2 [2.  2.5 3. ]\n"
     ]
    }
   ],
   "source": [
    "# a + b \n",
    "print(\"a + b =\", a + b)\n",
    "# a * 10 \n",
    "print(\"a * 10 =\", a * 10)\n",
    "# a^2\n",
    "print(\"a ** 2 =\", a ** 2)\n",
    "# b / 2 \n",
    "print(\"b/2\", b/2)"
   ]
  },
  {
   "cell_type": "code",
   "execution_count": 42,
   "id": "4fef6010",
   "metadata": {},
   "outputs": [
    {
     "name": "stdout",
     "output_type": "stream",
     "text": [
      "a:  [0 1 2 3 4 5 6 7 8 9]\n",
      "b:  [[1 2 3]\n",
      " [4 5 6]]\n"
     ]
    }
   ],
   "source": [
    "a = np.arange(10)\n",
    "b = np.array([[1,2,3],[4,5,6]])\n",
    "print(\"a: \", a)\n",
    "print(\"b: \",b)   # print(\"b: \\n\",b)  "
   ]
  },
  {
   "cell_type": "code",
   "execution_count": 43,
   "id": "30bedc2f",
   "metadata": {},
   "outputs": [
    {
     "name": "stdout",
     "output_type": "stream",
     "text": [
      "[2 3 4 5 6]\n",
      "[1 2 3]\n",
      "[4 5 6]\n"
     ]
    }
   ],
   "source": [
    "# Slice array index:2 to index: 6  [2,3,4,5,6]\n",
    "print(a[2:7])  # slice\n",
    "# slice row \n",
    "for row in b:\n",
    "    print(row)"
   ]
  },
  {
   "cell_type": "code",
   "execution_count": 45,
   "id": "2c356cd3",
   "metadata": {},
   "outputs": [
    {
     "name": "stdout",
     "output_type": "stream",
     "text": [
      "[ 0  1  2  3  4  5  6  7  8  9 10 11 12 13 14 15 16 17 18 19]\n"
     ]
    }
   ],
   "source": [
    "arr = np.arange(20)\n",
    "print(arr)"
   ]
  },
  {
   "cell_type": "code",
   "execution_count": 49,
   "id": "8e946ff4",
   "metadata": {},
   "outputs": [],
   "source": [
    "array_sample = np.arange(20)"
   ]
  },
  {
   "cell_type": "code",
   "execution_count": 54,
   "id": "01ab8856",
   "metadata": {},
   "outputs": [
    {
     "data": {
      "text/plain": [
       "array([[ 0,  1,  2,  3],\n",
       "       [ 4,  5,  6,  7],\n",
       "       [ 8,  9, 10, 11],\n",
       "       [12, 13, 14, 15],\n",
       "       [16, 17, 18, 19]])"
      ]
     },
     "execution_count": 54,
     "metadata": {},
     "output_type": "execute_result"
    }
   ],
   "source": [
    "#reshapr สองแถว\n",
    "array_sample.reshape(2,10)\n",
    "#reshapr 10แถว\n",
    "array_sample.reshape(10,2)\n",
    "#reshapr2แถว3หลัก\n",
    "array_sample.reshape(5,4)"
   ]
  }
 ],
 "metadata": {
  "kernelspec": {
   "display_name": "env (3.13.5)",
   "language": "python",
   "name": "python3"
  },
  "language_info": {
   "codemirror_mode": {
    "name": "ipython",
    "version": 3
   },
   "file_extension": ".py",
   "mimetype": "text/x-python",
   "name": "python",
   "nbconvert_exporter": "python",
   "pygments_lexer": "ipython3",
   "version": "3.13.5"
  }
 },
 "nbformat": 4,
 "nbformat_minor": 5
}
